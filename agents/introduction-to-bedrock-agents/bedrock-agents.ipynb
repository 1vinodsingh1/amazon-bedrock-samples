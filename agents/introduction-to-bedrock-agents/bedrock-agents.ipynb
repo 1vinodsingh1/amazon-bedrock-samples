{
 "cells": [
  {
   "cell_type": "code",
   "execution_count": 4,
   "id": "cc953650-df6b-4b3e-be03-8fabe0a5730f",
   "metadata": {},
   "outputs": [],
   "source": [
    "import boto3\n",
    "import json"
   ]
  },
  {
   "cell_type": "markdown",
   "id": "96953f76-1c00-4f26-a1a3-3eb32a2bcda8",
   "metadata": {},
   "source": [
    "# Agents in Amazon Bedrock\n",
    " Agents for Amazon Bedrock automate the prompt engineering and orchestration of user-requested tasks. Once configured, an agent automatically builds the prompt and securely augments it with your company-specific information to provide responses back to the user in natural language. The agent is able to figure out the actions required to automatically process user-requested tasks. It breaks the task into multiple steps, orchestrates a sequence of API calls and data lookups, and maintains memory to complete the action for the user."
   ]
  },
  {
   "cell_type": "markdown",
   "id": "2cbd8401-3d6c-4a1e-bdf2-aa37d1a61103",
   "metadata": {},
   "source": [
    "### Steps for creating Amazon Bedrock Agents \n",
    "*Currently only console creation is supported, please use the AWS Console to create your agents here (change your region if required): https://us-west-2.console.aws.amazon.com/bedrock/home?region=us-west-2#/agents/create*"
   ]
  },
  {
   "cell_type": "markdown",
   "id": "bf854e44-b2d5-40c0-ab04-12adf591bee2",
   "metadata": {},
   "source": [
    "1. Provide agent details including agent name, description (optional), whether the agent is allowed to request additional user inputs, and the AWS Identity and Access Management (IAM) service role that gives your agent access to other required services, such as Amazon Simple Storage Service (Amazon S3) and AWS Lambda."
   ]
  },
  {
   "cell_type": "markdown",
   "id": "e94dbedb-c647-4513-94cb-8fd385457d12",
   "metadata": {},
   "source": [
    "### Creating the required IAM role, scope permisisons as required"
   ]
  },
  {
   "cell_type": "code",
   "execution_count": null,
   "id": "6c7d917f-8892-48b1-a00c-0e88d76c3df1",
   "metadata": {},
   "outputs": [],
   "source": [
    "iam = boto3.client('iam')\n",
    "\n",
    "trust_policy = {\n",
    "    \"Version\": \"2012-10-17\", \n",
    "    \"Statement\": [\n",
    "        {\n",
    "            \"Sid\": \"\",\n",
    "            \"Effect\": \"Allow\",\n",
    "            \"Principal\": {\n",
    "                \"Service\": \"bedrock.amazonaws.com\"\n",
    "            },\n",
    "            \"Action\": \"sts:AssumeRole\"\n",
    "        }\n",
    "    ]\n",
    "}\n",
    "\n",
    "role_name = \"AmazonBedrockExecutionRoleForAgents_sample\"\n",
    "\n",
    "try:\n",
    "  iam.create_role(\n",
    "      RoleName=role_name,\n",
    "      AssumeRolePolicyDocument=json.dumps(trust_policy)\n",
    "  )\n",
    "  \n",
    "  iam.attach_role_policy(\n",
    "      RoleName=role_name, \n",
    "      PolicyArn=\"arn:aws:iam::aws:policy/AmazonS3FullAccess\"\n",
    "  )\n",
    "  \n",
    "  iam.attach_role_policy(\n",
    "      RoleName=role_name,\n",
    "      PolicyArn=\"arn:aws:iam::aws:policy/AWSLambda_FullAccess\"\n",
    "  )\n",
    "\n",
    "  print(\"IAM role successfully created\")\n",
    "\n",
    "except iam.exceptions.EntityAlreadyExistsException as e:\n",
    "  print(f\"Error creating IAM role: {e}\") \n",
    "\n",
    "except Exception as e:\n",
    "  print(f\"Unexpected error: {e}\")"
   ]
  },
  {
   "cell_type": "code",
   "execution_count": null,
   "id": "5db4fe4a-b8d9-4814-af64-89a42768e456",
   "metadata": {},
   "outputs": [],
   "source": [
    "### Creating our AWS Lambda Function "
   ]
  }
 ],
 "metadata": {
  "kernelspec": {
   "display_name": "Python 3 (ipykernel)",
   "language": "python",
   "name": "python3"
  },
  "language_info": {
   "codemirror_mode": {
    "name": "ipython",
    "version": 3
   },
   "file_extension": ".py",
   "mimetype": "text/x-python",
   "name": "python",
   "nbconvert_exporter": "python",
   "pygments_lexer": "ipython3",
   "version": "3.10.11"
  }
 },
 "nbformat": 4,
 "nbformat_minor": 5
}

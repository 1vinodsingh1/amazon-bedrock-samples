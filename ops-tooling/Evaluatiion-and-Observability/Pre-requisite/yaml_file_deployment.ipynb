{
 "cells": [
  {
   "cell_type": "code",
   "execution_count": null,
   "id": "7b565e68",
   "metadata": {},
   "outputs": [],
   "source": [
    "!pip install ruamel.yaml"
   ]
  },
  {
   "cell_type": "code",
   "execution_count": null,
   "id": "c1b4cf54",
   "metadata": {},
   "outputs": [],
   "source": [
    "import boto3\n",
    "\n",
    "from ruamel.yaml import YAML\n",
    "from io import StringIO"
   ]
  },
  {
   "cell_type": "code",
   "execution_count": null,
   "id": "8684429a",
   "metadata": {},
   "outputs": [],
   "source": [
    "yaml = YAML()\n",
    "with open('pre-requisite.yaml', 'r') as file:\n",
    "    yaml_data = yaml.load(file)"
   ]
  },
  {
   "cell_type": "code",
   "execution_count": null,
   "id": "6f1a95a0",
   "metadata": {},
   "outputs": [],
   "source": [
    "cloudformation_client = boto3.client('cloudformation')\n",
    "stack_name = 'kb-observability-stack'"
   ]
  },
  {
   "cell_type": "code",
   "execution_count": null,
   "id": "a7628ed7",
   "metadata": {},
   "outputs": [],
   "source": [
    "stream = StringIO()\n",
    "yaml.dump(yaml_data, stream)\n",
    "\n",
    "template_body = stream.getvalue()"
   ]
  },
  {
   "cell_type": "code",
   "execution_count": null,
   "id": "cec54924",
   "metadata": {},
   "outputs": [],
   "source": [
    "response = cloudformation_client.create_stack(\n",
    "            StackName = stack_name,\n",
    "            TemplateBody = template_body,\n",
    "            Capabilities=['CAPABILITY_IAM'])"
   ]
  },
  {
   "cell_type": "code",
   "execution_count": null,
   "id": "cdef3534",
   "metadata": {},
   "outputs": [],
   "source": [
    "cloudformation_client.get_waiter('stack_create_complete').wait(StackName=stack_name)"
   ]
  },
  {
   "cell_type": "code",
   "execution_count": null,
   "id": "c5bd8206",
   "metadata": {},
   "outputs": [],
   "source": [
    "response = cloudformation_client.describe_stacks(StackName=stack_name)\n",
    "output_dict = {}\n",
    "\n",
    "for output in response['Stacks'][0]['Outputs']:\n",
    "    output_dict[output['OutputKey']] = output['OutputValue']"
   ]
  },
  {
   "cell_type": "code",
   "execution_count": null,
   "id": "448287bf",
   "metadata": {},
   "outputs": [],
   "source": [
    "output_dict_select = {\"FIREHOSE_NAME\": output_dict[\"FirehoseDeliveryStreamName\"], \n",
    "                      \"CRAWLER_NAME\": output_dict[\"GlueCrawlerName\"]}"
   ]
  },
  {
   "cell_type": "code",
   "execution_count": null,
   "id": "6913fcdb",
   "metadata": {},
   "outputs": [],
   "source": [
    "session = boto3.Session()\n",
    "region = session.region_name"
   ]
  },
  {
   "cell_type": "code",
   "execution_count": null,
   "id": "c9812442",
   "metadata": {},
   "outputs": [],
   "source": [
    "output_dict_select['REGION'] = region"
   ]
  },
  {
   "cell_type": "code",
   "execution_count": null,
   "id": "1b413810",
   "metadata": {},
   "outputs": [],
   "source": [
    "with open('config.py', 'w') as configfile:\n",
    "    for key, value in output_dict_select.items():\n",
    "        configfile.write(f\"{key} = '{value}'\\n\")"
   ]
  }
 ],
 "metadata": {
  "kernelspec": {
   "display_name": "conda_python3",
   "language": "python",
   "name": "conda_python3"
  },
  "language_info": {
   "codemirror_mode": {
    "name": "ipython",
    "version": 3
   },
   "file_extension": ".py",
   "mimetype": "text/x-python",
   "name": "python",
   "nbconvert_exporter": "python",
   "pygments_lexer": "ipython3",
   "version": "3.10.14"
  }
 },
 "nbformat": 4,
 "nbformat_minor": 5
}

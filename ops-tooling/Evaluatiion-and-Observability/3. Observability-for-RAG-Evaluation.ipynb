{
 "cells": [
  {
   "cell_type": "code",
   "execution_count": 1,
   "metadata": {},
   "outputs": [],
   "source": [
    "# %pip install --upgrade pip\n",
    "# %pip install -r requirements.txt"
   ]
  },
  {
   "cell_type": "code",
   "execution_count": 2,
   "metadata": {},
   "outputs": [
    {
     "data": {
      "application/vnd.jupyter.widget-view+json": {
       "model_id": "7a74be9798554f9cbc4fe99244842243",
       "version_major": 2,
       "version_minor": 0
      },
      "text/plain": [
       "Evaluating:   0%|          | 0/4 [00:00<?, ?it/s]"
      ]
     },
     "metadata": {},
     "output_type": "display_data"
    },
    {
     "data": {
      "application/vnd.jupyter.widget-view+json": {
       "model_id": "209391f2aaaa47bd9023cd80b59fed9c",
       "version_major": 2,
       "version_minor": 0
      },
      "text/plain": [
       "Evaluating:   0%|          | 0/4 [00:00<?, ?it/s]"
      ]
     },
     "metadata": {},
     "output_type": "display_data"
    },
    {
     "data": {
      "application/vnd.jupyter.widget-view+json": {
       "model_id": "47a9f53fda9f413f8dc3c81a5551d22b",
       "version_major": 2,
       "version_minor": 0
      },
      "text/plain": [
       "Evaluating:   0%|          | 0/4 [00:00<?, ?it/s]"
      ]
     },
     "metadata": {},
     "output_type": "display_data"
    },
    {
     "data": {
      "application/vnd.jupyter.widget-view+json": {
       "model_id": "70ec6be70c704f39a7913febb362609a",
       "version_major": 2,
       "version_minor": 0
      },
      "text/plain": [
       "Evaluating:   0%|          | 0/4 [00:00<?, ?it/s]"
      ]
     },
     "metadata": {},
     "output_type": "display_data"
    },
    {
     "data": {
      "application/vnd.jupyter.widget-view+json": {
       "model_id": "57a130ed45fd48328b409917861a7acf",
       "version_major": 2,
       "version_minor": 0
      },
      "text/plain": [
       "Evaluating:   0%|          | 0/4 [00:00<?, ?it/s]"
      ]
     },
     "metadata": {},
     "output_type": "display_data"
    },
    {
     "data": {
      "application/vnd.jupyter.widget-view+json": {
       "model_id": "47c134edfa03405b9f4b2a24598441cf",
       "version_major": 2,
       "version_minor": 0
      },
      "text/plain": [
       "Evaluating:   0%|          | 0/4 [00:00<?, ?it/s]"
      ]
     },
     "metadata": {},
     "output_type": "display_data"
    },
    {
     "data": {
      "application/vnd.jupyter.widget-view+json": {
       "model_id": "50cf0a5aa58b491ea3cc570e5bdcc44d",
       "version_major": 2,
       "version_minor": 0
      },
      "text/plain": [
       "Evaluating:   0%|          | 0/4 [00:00<?, ?it/s]"
      ]
     },
     "metadata": {},
     "output_type": "display_data"
    },
    {
     "data": {
      "application/vnd.jupyter.widget-view+json": {
       "model_id": "99f700d17f994e42b52af403532b1925",
       "version_major": 2,
       "version_minor": 0
      },
      "text/plain": [
       "Evaluating:   0%|          | 0/4 [00:00<?, ?it/s]"
      ]
     },
     "metadata": {},
     "output_type": "display_data"
    },
    {
     "data": {
      "application/vnd.jupyter.widget-view+json": {
       "model_id": "e86d4776ebb04ee4863c16c03e0afd97",
       "version_major": 2,
       "version_minor": 0
      },
      "text/plain": [
       "Evaluating:   0%|          | 0/4 [00:00<?, ?it/s]"
      ]
     },
     "metadata": {},
     "output_type": "display_data"
    },
    {
     "data": {
      "application/vnd.jupyter.widget-view+json": {
       "model_id": "de3e557c24f54d7bb72ffaae623a0b3c",
       "version_major": 2,
       "version_minor": 0
      },
      "text/plain": [
       "Evaluating:   0%|          | 0/4 [00:00<?, ?it/s]"
      ]
     },
     "metadata": {},
     "output_type": "display_data"
    },
    {
     "data": {
      "application/vnd.jupyter.widget-view+json": {
       "model_id": "a570fd98a5994f0db8f3d886fb8013ce",
       "version_major": 2,
       "version_minor": 0
      },
      "text/plain": [
       "Evaluating:   0%|          | 0/4 [00:00<?, ?it/s]"
      ]
     },
     "metadata": {},
     "output_type": "display_data"
    },
    {
     "data": {
      "application/vnd.jupyter.widget-view+json": {
       "model_id": "8672e38345b54dd2b650bbaa27540941",
       "version_major": 2,
       "version_minor": 0
      },
      "text/plain": [
       "Evaluating:   0%|          | 0/4 [00:00<?, ?it/s]"
      ]
     },
     "metadata": {},
     "output_type": "display_data"
    },
    {
     "data": {
      "application/vnd.jupyter.widget-view+json": {
       "model_id": "e3f0fa9687e84a6f81cd9a497be5f3e1",
       "version_major": 2,
       "version_minor": 0
      },
      "text/plain": [
       "Evaluating:   0%|          | 0/4 [00:00<?, ?it/s]"
      ]
     },
     "metadata": {},
     "output_type": "display_data"
    },
    {
     "data": {
      "application/vnd.jupyter.widget-view+json": {
       "model_id": "5383941038d24a4bb58749f4c230e93a",
       "version_major": 2,
       "version_minor": 0
      },
      "text/plain": [
       "Evaluating:   0%|          | 0/4 [00:00<?, ?it/s]"
      ]
     },
     "metadata": {},
     "output_type": "display_data"
    },
    {
     "data": {
      "application/vnd.jupyter.widget-view+json": {
       "model_id": "c339fb3402c04a2abfbb214a4ffaf413",
       "version_major": 2,
       "version_minor": 0
      },
      "text/plain": [
       "Evaluating:   0%|          | 0/4 [00:00<?, ?it/s]"
      ]
     },
     "metadata": {},
     "output_type": "display_data"
    }
   ],
   "source": [
    "from evaluation import KnowledgeBasesEvaluations\n",
    "from observability import BedrockLogs\n",
    "\n",
    "# Import configuration values\n",
    "from config import (\n",
    "    REGION, FIREHOSE_NAME, CRAWLER_NAME, MODEL_ARN, KB_ID, EXPERIMENT_DESCRIPTION,\n",
    "    APPLICATION_NAME, CUSTOM_TAG, GUARDRAIL_ID, GUARDRAIL_VERSION,\n",
    "    MAX_TOKENS, TEMPERATURE, TOP_P, MODEL_ID_EVAL, MODEL_ID_GEN\n",
    ")\n",
    "\n",
    "from ragas.metrics import (\n",
    "    faithfulness,\n",
    "    answer_relevancy,\n",
    "    context_recall,\n",
    "    answer_similarity)\n",
    "\n",
    "bedrock_logs = BedrockLogs(delivery_stream_name=FIREHOSE_NAME, experiment_id=\"343233\")\n",
    "metrics = [faithfulness,\n",
    "        answer_relevancy,\n",
    "        context_recall,\n",
    "        answer_similarity,]\n",
    "\n",
    "questions=[\n",
    "        \"How does the Company determine if an arrangement qualifies as a lease?\",\n",
    "        \"What is the Company's policy regarding the recognition of right-of-use (ROU) assets and lease liabilities for short-term leases?\",\n",
    "        \"How are operating lease ROU assets and lease liabilities presented on the Company's consolidated balance sheets?\",\n",
    "        \"What was the total operating lease cost recognized by the Company during the year ended December 31, 2022?\",\n",
    "        \"What was the weighted-average remaining lease term for operating leases as of December 31, 2022?\",\n",
    "        \"According to the future minimum lease payment schedule, what is the total amount of lease payments due after 2027?\",\n",
    "        \"What was the total operating lease liabilities of the Company as of December 31, 2022?\",\n",
    "        \"What was the amount of finance lease right-of-use (ROU) assets included in property and equipment, net, on the consolidated balance sheets as of December 31, 2022?\",\n",
    "        \"What were the weighted-average remaining lease term and weighted-average discount rate for the Company's finance leases as of December 31, 2022?\",\n",
    "        \"What was the total amount of future minimum lease payments under non-cancelable finance leases as of December 31, 2022?\",\n",
    "        \"How much did the Company receive in total proceeds from the two sale-leaseback transactions involving certain office buildings and data centers during the year ended December 31, 2022?\",\n",
    "        \"What type of lease arrangements does the Company enter into as a lessor, and how does it recognize the related income?\",\n",
    "        \"What was the total sublease income recognized by the Company during the year ended December 31, 2022, and where was it reported in the financial statements?\",\n",
    "        \"According to the information provided, what are the expected undiscounted future cash inflows from non-cancelable operating subleases for the year 2025?\",\n",
    "        \"Explain the significant judgments and estimates involved in the Company's lease accounting policies, as mentioned in the context information.\"\n",
    "    ]\n",
    "\n",
    "ground_truths = [\n",
    "        \"The Company determines if an arrangement is a lease at inception.\",\n",
    "        \"The Company has elected not to recognize ROU assets and lease liabilities for short-term leases that have a lease term of 12 months or less. The Company recognizes the lease payments associated with its short-term leases as an expense on a straight-line basis over the lease term.\",\n",
    "        \"Operating lease ROU assets are presented separately on the consolidated balance sheets. Operating lease liabilities are presented separately as current and non-current liabilities on the consolidated balance sheets.\",\n",
    "        \"The Company recognized operating lease costs of $22.4 million during the year ended December 31, 2022.\",\n",
    "        \"The weighted-average remaining lease term for operating leases as of December 31, 2022, was 5.2 years.\",\n",
    "        \"According to the future minimum lease payment schedule, the total amount of lease payments due after 2027 is $22,400,000.\",\n",
    "        \"$92,300\",\n",
    "        \"$6.2 million\",\n",
    "        \"The weighted-average remaining lease term for finance leases as of December 31, 2022 was 3.7 years, and the weighted-average discount rate was 5.2%.\",\n",
    "        \"$7,100,000\",\n",
    "        \"The Company received total proceeds of $48.5 million from the two sale-leaseback transactions involving certain office buildings and data centers during the year ended December 31, 2022.\",\n",
    "        \"The Company enters into arrangements to sublease certain office spaces to third parties. These sublease arrangements are classified as operating leases, and the Company recognizes sublease income on a straight-line basis over the lease term.\",\n",
    "        \"The Company recognized sublease income of $3.2 million during the year ended December 31, 2022, which was included in other income, net, in the consolidated statements of operations.\",\n",
    "        \"According to the information provided, the expected undiscounted future cash inflows from non-cancelable operating subleases for the year 2025 is $2,400,000.\",\n",
    "        \"The significant judgments and estimates involved in the Company's lease accounting policies, as mentioned in the context information, are:\\n\\n1. Determining whether a contract contains a lease, which requires evaluating if the Company has the right to control the use of an identified asset for a period of time in exchange for consideration.\\n\\n2. Allocating contract consideration between lease and non-lease components, particularly for arrangements involving multiple components, which involves applying judgment in determining the appropriate allocation methodology and standalone prices for each component.\\n\\n3. Determining the lease term, which involves assessing the likelihood of exercising renewal or termination options.\\n\\n4. Determining the incremental borrowing rate used to measure lease liabilities.\"\n",
    "    ]\n",
    "\n",
    "@bedrock_logs.watch(call_type='RAG-Evaluation')\n",
    "def test_function(application_metadata):\n",
    "    question, ground_truth = application_metadata['question'], application_metadata['ground_truth']\n",
    "    results = {}\n",
    "    kb_evaluate = KnowledgeBasesEvaluations(model_id_eval=MODEL_ID_EVAL, \n",
    "                          model_id_generation=MODEL_ID_GEN, \n",
    "                          metrics=metrics,\n",
    "                          questions=question, \n",
    "                          ground_truth=ground_truth, KB_ID=KB_ID)\n",
    "    kb_evaluate.evaluate() \n",
    "    results[\"evaluation_results\"] = kb_evaluate.evaluation_results\n",
    "    results[\"questions\"] = kb_evaluate.questions\n",
    "    results[\"ground_truth\"] = kb_evaluate.ground_truth\n",
    "    results[\"generated_answers\"] = kb_evaluate.generated_answers\n",
    "    results[\"contexts\"] = kb_evaluate.contexts\n",
    "    return results\n",
    "\n",
    "for question, ground_truth in zip(questions, ground_truths):\n",
    "    \n",
    "    application_metadata = {\n",
    "        'question': [question],\n",
    "        'ground_truth': [ground_truth],\n",
    "        'experiment_description': EXPERIMENT_DESCRIPTION,\n",
    "        'application_name': APPLICATION_NAME, \n",
    "        'custom_tag': CUSTOM_TAG,\n",
    "        'max_token': MAX_TOKENS, \n",
    "        'temperature': TEMPERATURE, \n",
    "        'top_p':TOP_P,\n",
    "        'kb_id': KB_ID\n",
    "        }\n",
    "    # execute the test and track it:\n",
    "    test_function(application_metadata)\n",
    "    "
   ]
  },
  {
   "cell_type": "code",
   "execution_count": null,
   "metadata": {},
   "outputs": [],
   "source": [
    "@bedrock_logs.watch(call_type='Agent-Observability')\n",
    "def my_agent_func(arg1_tracked, arg2_not_tracked, arg3_not_tracked):\n",
    "    return None"
   ]
  },
  {
   "cell_type": "markdown",
   "metadata": {},
   "source": [
    "# End"
   ]
  }
 ],
 "metadata": {
  "kernelspec": {
   "display_name": "conda_python3",
   "language": "python",
   "name": "conda_python3"
  },
  "language_info": {
   "codemirror_mode": {
    "name": "ipython",
    "version": 3
   },
   "file_extension": ".py",
   "mimetype": "text/x-python",
   "name": "python",
   "nbconvert_exporter": "python",
   "pygments_lexer": "ipython3",
   "version": "3.10.13"
  }
 },
 "nbformat": 4,
 "nbformat_minor": 2
}

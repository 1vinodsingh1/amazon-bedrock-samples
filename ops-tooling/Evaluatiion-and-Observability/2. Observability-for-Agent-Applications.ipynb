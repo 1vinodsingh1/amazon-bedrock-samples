{
 "cells": [
  {
   "cell_type": "markdown",
   "id": "888eda33",
   "metadata": {},
   "source": [
    "# Setup:\n",
    "The code sets up essential configurations and clients to interact with AWS services and the Amazon Bedrock agent runtime. It imports required modules, a custom observability module, and fetches various configuration values."
   ]
  },
  {
   "cell_type": "code",
   "execution_count": 1,
   "id": "d8d344fa",
   "metadata": {},
   "outputs": [],
   "source": [
    "import boto3\n",
    "import time\n",
    "import json\n",
    "\n",
    "# Custom Module:\n",
    "from observability import BedrockLogs\n",
    "\n",
    "# Import configuration values\n",
    "from config import (\n",
    "    REGION, FIREHOSE_NAME, CRAWLER_NAME, MODEL_ARN, AGENT_ID, AGENT_ALIAS_ID, \n",
    "    SESSION_ID, ENABLE_TRACE, END_SESSION, AGENT_CONFIG, EXPERIMENT_ID, \n",
    "    CUSTOM_TAG, GUARDRAIL_ID, GUARDRAIL_VERSION, MAX_TOKENS, TEMPERATURE, TOP_P\n",
    ")\n",
    "\n",
    "bedrock_agent_client = boto3.client('bedrock-agent')\n",
    "bedrock_agent_runtime_client = boto3.client('bedrock-agent-runtime')\n",
    "\n",
    "# Initialize BedrockLogs for observability using Amazon Firehose:\n",
    "# bedrock_logs = BedrockLogs(delivery_stream_name=FIREHOSE_NAME, \n",
    "#                            experiment_id=EXPERIMENT_ID, \n",
    "#                            feature_name='Agent')\n",
    "\n",
    "# Initialize BedrockLogs for observability using local mode for troubleshooting:\n",
    "bedrock_logs = BedrockLogs(delivery_stream_name='local', feedback_variables=True, \n",
    "                           feature_name='Agent')"
   ]
  },
  {
   "cell_type": "markdown",
   "id": "b2e35bba",
   "metadata": {},
   "source": [
    "# Setup Observability:\n",
    "\n",
    "The `invoke_agent` function calls an agent API, processes the response to extract the agent's answer and trace data, handles exceptions, and returns relevant information. It is decorated to enable logging or monitoring of the function call."
   ]
  },
  {
   "cell_type": "code",
   "execution_count": 2,
   "id": "88ad7f09",
   "metadata": {},
   "outputs": [],
   "source": [
    "# invoke the agent API\n",
    "@bedrock_logs.watch(call_type='agent-in-prod')\n",
    "def invoke_agent(query_to_agent, agent_id, agent_alias_id,\n",
    "                 session_id, enableTrace, endSession, agent_config=None):\n",
    "    try:\n",
    "        start_time = time.time()\n",
    "        time_to_first_token = None\n",
    "        time_at_first_token = None\n",
    "        \n",
    "        agentResponse = bedrock_agent_runtime_client.invoke_agent(\n",
    "            inputText=query_to_agent,\n",
    "            agentId=agent_id,\n",
    "            agentAliasId=agent_alias_id,\n",
    "            sessionId=session_id,\n",
    "            enableTrace=enableTrace,\n",
    "            endSession=endSession\n",
    "        )\n",
    "\n",
    "        event_stream = agentResponse['completion']\n",
    "        agent_answer = None\n",
    "        end_event_received = False\n",
    "        trace_data = []\n",
    "\n",
    "        for event in event_stream:\n",
    "            if 'chunk' in event:\n",
    "                if time_to_first_token is None:\n",
    "                    time_at_first_token = time.time()\n",
    "                    time_to_first_token = time_at_first_token - start_time\n",
    "                data = event['chunk']['bytes']\n",
    "                agent_answer = data.decode('utf8')\n",
    "                end_event_received = True\n",
    "            elif 'trace' in event:\n",
    "                trace = event['trace']\n",
    "                trace['start_trace_time'] = time.time()\n",
    "                trace_data.append(trace)\n",
    "            else:\n",
    "                raise Exception(\"Unexpected event.\", event)\n",
    "\n",
    "        if not end_event_received:\n",
    "            raise Exception(\"End event not received.\")\n",
    "            \n",
    "        agentResponse['ResponseMetadata']['time_to_first_token'] = time_to_first_token\n",
    "        agentResponse['ResponseMetadata']['time_to_last_token'] = time.time() - time_at_first_token\n",
    "\n",
    "    except Exception as e:\n",
    "        raise e\n",
    "    \n",
    "    # the following will be returned as a tuple datatype:\n",
    "    return agentResponse['ResponseMetadata'], agent_answer, trace_data"
   ]
  },
  {
   "cell_type": "markdown",
   "id": "1e7880fc",
   "metadata": {},
   "source": [
    "# Test the observability\n",
    "\n",
    "Here we pass a question to the invoke_agent custom function and expect that `function arguments`, `model response`, and `traces` will be logged to the configured Amazon S3 bucket."
   ]
  },
  {
   "cell_type": "code",
   "execution_count": 3,
   "id": "570c6e62",
   "metadata": {
    "scrolled": true
   },
   "outputs": [
    {
     "name": "stdout",
     "output_type": "stream",
     "text": [
      "Logs in local mode:\n",
      "CPU times: user 17.3 ms, sys: 8.59 ms, total: 25.9 ms\n",
      "Wall time: 25.3 s\n"
     ]
    }
   ],
   "source": [
    "%%time\n",
    "QUESTION = \"<enter-your-question-here>\"\n",
    "\n",
    "results, log, run_id, observation_id = invoke_agent(\n",
    "    QUESTION, \n",
    "    AGENT_ID, \n",
    "    AGENT_ALIAS_ID, \n",
    "    SESSION_ID, \n",
    "    ENABLE_TRACE, \n",
    "    END_SESSION\n",
    ")"
   ]
  },
  {
   "cell_type": "markdown",
   "id": "71af6d2a",
   "metadata": {},
   "source": [
    "# END"
   ]
  }
 ],
 "metadata": {
  "kernelspec": {
   "display_name": "conda_python3",
   "language": "python",
   "name": "conda_python3"
  },
  "language_info": {
   "codemirror_mode": {
    "name": "ipython",
    "version": 3
   },
   "file_extension": ".py",
   "mimetype": "text/x-python",
   "name": "python",
   "nbconvert_exporter": "python",
   "pygments_lexer": "ipython3",
   "version": "3.10.13"
  }
 },
 "nbformat": 4,
 "nbformat_minor": 5
}
